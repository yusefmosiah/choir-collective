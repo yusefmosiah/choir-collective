{
 "cells": [
  {
   "cell_type": "code",
   "execution_count": null,
   "metadata": {},
   "outputs": [],
   "source": [
    "%pip install qdrant-client\n",
    "%pip install python-dotenv"
   ]
  },
  {
   "cell_type": "code",
   "execution_count": null,
   "metadata": {},
   "outputs": [],
   "source": [
    "from qdrant_client import QdrantClient\n",
    "from dotenv import load_dotenv\n",
    "import os\n",
    "\n",
    "# Load environment variables\n",
    "load_dotenv()\n",
    "\n",
    "# Print environment variables (without sensitive info)\n",
    "print(\"QDRANT_URL:\", os.getenv(\"QDRANT_URL\"))\n",
    "print(\"API Keys configured:\", bool(os.getenv(\"QDRANT_API_KEY\")))\n",
    "\n",
    "# Initialize client\n",
    "client = QdrantClient(\n",
    "    url=os.getenv(\"QDRANT_URL\"),\n",
    "    api_key=os.getenv(\"QDRANT_API_KEY\"),\n",
    "    timeout=60,\n",
    "    https=True  # Force HTTPS for cloud connection\n",
    ")\n",
    "\n",
    "# Get collections info\n",
    "collections = [\"choir\", \"chat_threads\", \"users\"]\n",
    "\n",
    "for collection_name in collections:\n",
    "    try:\n",
    "        # Check if collection exists\n",
    "        exists = client.collection_exists(collection_name)\n",
    "        print(f\"\\nCollection '{collection_name}':\")\n",
    "        print(f\"- Exists: {exists}\")\n",
    "\n",
    "        if exists:\n",
    "            # Get collection info\n",
    "            info = client.get_collection(collection_name)\n",
    "            print(f\"- Vector size: {info.config.params.vectors.size}\")\n",
    "            print(f\"- Distance: {info.config.params.vectors.distance}\")\n",
    "\n",
    "            # Get point count\n",
    "            count = client.count(collection_name=collection_name)\n",
    "            print(f\"- Points count: {count.count}\")\n",
    "    except Exception as e:\n",
    "        print(f\"Error checking collection '{collection_name}': {e}\")"
   ]
  }
 ],
 "metadata": {
  "kernelspec": {
   "display_name": "venv",
   "language": "python",
   "name": "python3"
  },
  "language_info": {
   "codemirror_mode": {
    "name": "ipython",
    "version": 3
   },
   "file_extension": ".py",
   "mimetype": "text/x-python",
   "name": "python",
   "nbconvert_exporter": "python",
   "pygments_lexer": "ipython3",
   "version": "3.12.4"
  }
 },
 "nbformat": 4,
 "nbformat_minor": 2
}
