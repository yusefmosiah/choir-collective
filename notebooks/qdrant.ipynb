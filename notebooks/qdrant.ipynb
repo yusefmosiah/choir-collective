{
 "cells": [
  {
   "cell_type": "code",
   "execution_count": 3,
   "metadata": {},
   "outputs": [
    {
     "name": "stdout",
     "output_type": "stream",
     "text": [
      "Requirement already satisfied: qdrant-client in /Users/wiz/choir_database/path/to/venv/lib/python3.12/site-packages (1.12.1)\n",
      "Requirement already satisfied: grpcio>=1.41.0 in /Users/wiz/choir_database/path/to/venv/lib/python3.12/site-packages (from qdrant-client) (1.67.1)\n",
      "Requirement already satisfied: grpcio-tools>=1.41.0 in /Users/wiz/choir_database/path/to/venv/lib/python3.12/site-packages (from qdrant-client) (1.67.1)\n",
      "Requirement already satisfied: httpx>=0.20.0 in /Users/wiz/choir_database/path/to/venv/lib/python3.12/site-packages (from httpx[http2]>=0.20.0->qdrant-client) (0.27.2)\n",
      "Requirement already satisfied: numpy>=1.26 in /Users/wiz/choir_database/path/to/venv/lib/python3.12/site-packages (from qdrant-client) (2.1.2)\n",
      "Requirement already satisfied: portalocker<3.0.0,>=2.7.0 in /Users/wiz/choir_database/path/to/venv/lib/python3.12/site-packages (from qdrant-client) (2.10.1)\n",
      "Requirement already satisfied: pydantic>=1.10.8 in /Users/wiz/choir_database/path/to/venv/lib/python3.12/site-packages (from qdrant-client) (2.9.2)\n",
      "Requirement already satisfied: urllib3<3,>=1.26.14 in /Users/wiz/choir_database/path/to/venv/lib/python3.12/site-packages (from qdrant-client) (2.2.3)\n",
      "Requirement already satisfied: protobuf<6.0dev,>=5.26.1 in /Users/wiz/choir_database/path/to/venv/lib/python3.12/site-packages (from grpcio-tools>=1.41.0->qdrant-client) (5.28.3)\n",
      "Requirement already satisfied: setuptools in /Users/wiz/choir_database/path/to/venv/lib/python3.12/site-packages (from grpcio-tools>=1.41.0->qdrant-client) (75.3.0)\n",
      "Requirement already satisfied: anyio in /Users/wiz/choir_database/path/to/venv/lib/python3.12/site-packages (from httpx>=0.20.0->httpx[http2]>=0.20.0->qdrant-client) (4.6.2.post1)\n",
      "Requirement already satisfied: certifi in /Users/wiz/choir_database/path/to/venv/lib/python3.12/site-packages (from httpx>=0.20.0->httpx[http2]>=0.20.0->qdrant-client) (2024.8.30)\n",
      "Requirement already satisfied: httpcore==1.* in /Users/wiz/choir_database/path/to/venv/lib/python3.12/site-packages (from httpx>=0.20.0->httpx[http2]>=0.20.0->qdrant-client) (1.0.6)\n",
      "Requirement already satisfied: idna in /Users/wiz/choir_database/path/to/venv/lib/python3.12/site-packages (from httpx>=0.20.0->httpx[http2]>=0.20.0->qdrant-client) (3.10)\n",
      "Requirement already satisfied: sniffio in /Users/wiz/choir_database/path/to/venv/lib/python3.12/site-packages (from httpx>=0.20.0->httpx[http2]>=0.20.0->qdrant-client) (1.3.1)\n",
      "Requirement already satisfied: h11<0.15,>=0.13 in /Users/wiz/choir_database/path/to/venv/lib/python3.12/site-packages (from httpcore==1.*->httpx>=0.20.0->httpx[http2]>=0.20.0->qdrant-client) (0.14.0)\n",
      "Requirement already satisfied: h2<5,>=3 in /Users/wiz/choir_database/path/to/venv/lib/python3.12/site-packages (from httpx[http2]>=0.20.0->qdrant-client) (4.1.0)\n",
      "Requirement already satisfied: annotated-types>=0.6.0 in /Users/wiz/choir_database/path/to/venv/lib/python3.12/site-packages (from pydantic>=1.10.8->qdrant-client) (0.7.0)\n",
      "Requirement already satisfied: pydantic-core==2.23.4 in /Users/wiz/choir_database/path/to/venv/lib/python3.12/site-packages (from pydantic>=1.10.8->qdrant-client) (2.23.4)\n",
      "Requirement already satisfied: typing-extensions>=4.6.1 in /Users/wiz/choir_database/path/to/venv/lib/python3.12/site-packages (from pydantic>=1.10.8->qdrant-client) (4.12.2)\n",
      "Requirement already satisfied: hyperframe<7,>=6.0 in /Users/wiz/choir_database/path/to/venv/lib/python3.12/site-packages (from h2<5,>=3->httpx[http2]>=0.20.0->qdrant-client) (6.0.1)\n",
      "Requirement already satisfied: hpack<5,>=4.0 in /Users/wiz/choir_database/path/to/venv/lib/python3.12/site-packages (from h2<5,>=3->httpx[http2]>=0.20.0->qdrant-client) (4.0.0)\n",
      "\n",
      "\u001b[1m[\u001b[0m\u001b[34;49mnotice\u001b[0m\u001b[1;39;49m]\u001b[0m\u001b[39;49m A new release of pip is available: \u001b[0m\u001b[31;49m24.0\u001b[0m\u001b[39;49m -> \u001b[0m\u001b[32;49m24.3.1\u001b[0m\n",
      "\u001b[1m[\u001b[0m\u001b[34;49mnotice\u001b[0m\u001b[1;39;49m]\u001b[0m\u001b[39;49m To update, run: \u001b[0m\u001b[32;49mpip install --upgrade pip\u001b[0m\n",
      "Collecting python-dotenv\n",
      "  Using cached python_dotenv-1.0.1-py3-none-any.whl.metadata (23 kB)\n",
      "Using cached python_dotenv-1.0.1-py3-none-any.whl (19 kB)\n",
      "Installing collected packages: python-dotenv\n",
      "Successfully installed python-dotenv-1.0.1\n",
      "\n",
      "\u001b[1m[\u001b[0m\u001b[34;49mnotice\u001b[0m\u001b[1;39;49m]\u001b[0m\u001b[39;49m A new release of pip is available: \u001b[0m\u001b[31;49m24.0\u001b[0m\u001b[39;49m -> \u001b[0m\u001b[32;49m24.3.1\u001b[0m\n",
      "\u001b[1m[\u001b[0m\u001b[34;49mnotice\u001b[0m\u001b[1;39;49m]\u001b[0m\u001b[39;49m To update, run: \u001b[0m\u001b[32;49mpip install --upgrade pip\u001b[0m\n"
     ]
    }
   ],
   "source": [
    "%pip install qdrant-client\n",
    "%pip install python-dotenv"
   ]
  },
  {
   "cell_type": "code",
   "execution_count": 7,
   "metadata": {},
   "outputs": [
    {
     "name": "stdout",
     "output_type": "stream",
     "text": [
      "QDRANT_URL: https://7dd96b97-1635-4b1a-9a7b-c9123a1723de.us-east-1-0.aws.cloud.qdrant.io:6333\n",
      "API Keys configured: True\n",
      "\n",
      "Collection 'choir':\n",
      "- Exists: True\n",
      "- Vector size: 1536\n",
      "- Distance: Cosine\n",
      "- Points count: 18079\n",
      "\n",
      "Collection 'chat_threads':\n",
      "- Exists: True\n",
      "- Vector size: 1536\n",
      "- Distance: Cosine\n",
      "- Points count: 153\n",
      "\n",
      "Collection 'users':\n",
      "- Exists: True\n",
      "- Vector size: 1536\n",
      "- Distance: Cosine\n",
      "- Points count: 43\n"
     ]
    }
   ],
   "source": [
    "from qdrant_client import QdrantClient\n",
    "from dotenv import load_dotenv\n",
    "import os\n",
    "\n",
    "# Load environment variables\n",
    "load_dotenv()\n",
    "\n",
    "# Print environment variables (without sensitive info)\n",
    "print(\"QDRANT_URL:\", os.getenv(\"QDRANT_URL\"))\n",
    "print(\"API Keys configured:\", bool(os.getenv(\"QDRANT_API_KEY\")))\n",
    "\n",
    "# Initialize client\n",
    "client = QdrantClient(\n",
    "    url=os.getenv(\"QDRANT_URL\"),\n",
    "    api_key=os.getenv(\"QDRANT_API_KEY\"),\n",
    "    timeout=60,\n",
    "    https=True  # Force HTTPS for cloud connection\n",
    ")\n",
    "\n",
    "# Get collections info\n",
    "collections = [\"choir\", \"chat_threads\", \"users\"]\n",
    "\n",
    "for collection_name in collections:\n",
    "    try:\n",
    "        # Check if collection exists\n",
    "        exists = client.collection_exists(collection_name)\n",
    "        print(f\"\\nCollection '{collection_name}':\")\n",
    "        print(f\"- Exists: {exists}\")\n",
    "\n",
    "        if exists:\n",
    "            # Get collection info\n",
    "            info = client.get_collection(collection_name)\n",
    "            print(f\"- Vector size: {info.config.params.vectors.size}\")\n",
    "            print(f\"- Distance: {info.config.params.vectors.distance}\")\n",
    "\n",
    "            # Get point count\n",
    "            count = client.count(collection_name=collection_name)\n",
    "            print(f\"- Points count: {count.count}\")\n",
    "    except Exception as e:\n",
    "        print(f\"Error checking collection '{collection_name}': {e}\")"
   ]
  }
 ],
 "metadata": {
  "kernelspec": {
   "display_name": "venv",
   "language": "python",
   "name": "python3"
  },
  "language_info": {
   "codemirror_mode": {
    "name": "ipython",
    "version": 3
   },
   "file_extension": ".py",
   "mimetype": "text/x-python",
   "name": "python",
   "nbconvert_exporter": "python",
   "pygments_lexer": "ipython3",
   "version": "3.12.4"
  }
 },
 "nbformat": 4,
 "nbformat_minor": 2
}
